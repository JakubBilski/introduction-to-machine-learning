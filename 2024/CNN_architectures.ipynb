{
 "cells": [
  {
   "cell_type": "markdown",
   "metadata": {},
   "source": [
    "# Training CNNs"
   ]
  },
  {
   "cell_type": "code",
   "execution_count": 1,
   "metadata": {},
   "outputs": [
    {
     "name": "stderr",
     "output_type": "stream",
     "text": [
      "\u001b[34m\u001b[1mwandb\u001b[0m: Using wandb-core as the SDK backend. Please refer to https://wandb.me/wandb-core for more information.\n",
      "\u001b[34m\u001b[1mwandb\u001b[0m: Currently logged in as: \u001b[33mpodcast-o-rybach\u001b[0m (\u001b[33mpodcast-o-rybach-warsaw-university-of-technology\u001b[0m). Use \u001b[1m`wandb login --relogin`\u001b[0m to force relogin\n"
     ]
    },
    {
     "data": {
      "text/plain": [
       "True"
      ]
     },
     "execution_count": 1,
     "metadata": {},
     "output_type": "execute_result"
    }
   ],
   "source": [
    "import matplotlib.pyplot as plt\n",
    "import numpy as np\n",
    "import os\n",
    "\n",
    "import torch\n",
    "import torchvision\n",
    "import torchvision.transforms as transforms\n",
    "\n",
    "import torch.nn as nn\n",
    "import torch.nn.functional as F\n",
    "import torch.optim as optim\n",
    "\n",
    "import wandb\n",
    "wandb.login()"
   ]
  },
  {
   "cell_type": "markdown",
   "metadata": {},
   "source": [
    "### Use GPU if available"
   ]
  },
  {
   "cell_type": "code",
   "execution_count": 2,
   "metadata": {},
   "outputs": [
    {
     "name": "stdout",
     "output_type": "stream",
     "text": [
      "cuda:0\n"
     ]
    }
   ],
   "source": [
    "device = torch.device('cuda:0' if torch.cuda.is_available() else 'cpu')\n",
    "print(device)"
   ]
  },
  {
   "cell_type": "markdown",
   "metadata": {},
   "source": [
    "### Pytorch transformations for loading the data"
   ]
  },
  {
   "cell_type": "code",
   "execution_count": 3,
   "metadata": {},
   "outputs": [],
   "source": [
    "def load_dataset(name, input_resolution):\n",
    "    if name == 'FER2013':\n",
    "        mean, std = (0.5, ), (0.5, )\n",
    "    elif name == 'EuroSAT':\n",
    "        mean, std = (0.5, ), (0.5, )\n",
    "    elif name == 'FashionMNIST':\n",
    "        mean, std = (0.286, ), (0.338, )\n",
    "    elif name == 'imagenette':\n",
    "        mean, std = (0.462, 0.458, 0.430), (0.270, 0.267, 0.290)\n",
    "    elif name == 'imagewoof':\n",
    "        mean, std = (0.486, 0.456, 0.394), (0.248, 0.241, 0.250)\n",
    "    input_transform = transforms.Compose([\n",
    "        transforms.ToTensor(),\n",
    "        transforms.Resize((input_resolution, input_resolution)),\n",
    "        transforms.Normalize(mean, std)\n",
    "    ])\n",
    "    if name == 'FER2013':\n",
    "        trainset = torchvision.datasets.FER2013(\n",
    "            './data',\n",
    "            transform=input_transform\n",
    "        )\n",
    "        valset = torchvision.datasets.FER2013(\n",
    "            './data',\n",
    "            transform=input_transform,\n",
    "            split='test'\n",
    "        )\n",
    "        is_grayscale = True\n",
    "        class_names = ['Angry', 'Disgust', 'Fear', 'Happy', 'Sad', 'Surprise', 'Neutral']\n",
    "    if name == 'FashionMNIST':\n",
    "        trainset = torchvision.datasets.FashionMNIST(\n",
    "            './data',\n",
    "            train=True,\n",
    "            download=True,\n",
    "            transform=input_transform\n",
    "        )\n",
    "        valset = torchvision.datasets.FashionMNIST(\n",
    "            './data',\n",
    "            train=False,\n",
    "            download=True,\n",
    "            transform=input_transform\n",
    "        )\n",
    "        is_grayscale = True\n",
    "        class_names = trainset.classes\n",
    "    elif name == 'EuroSAT':\n",
    "        dataset = torchvision.datasets.EuroSAT(\n",
    "            './data',\n",
    "            download=True,\n",
    "            transform=input_transform\n",
    "        )\n",
    "        trainset, valset = torch.utils.data.random_split(dataset, [0.8, 0.2])\n",
    "        is_grayscale = False\n",
    "        class_names = dataset.classes\n",
    "    elif name == 'imagewoof':\n",
    "        trainset = torchvision.datasets.ImageFolder(\n",
    "            './data/imagewoof2-160/train',\n",
    "            transform=input_transform\n",
    "        )\n",
    "        valset = torchvision.datasets.ImageFolder(\n",
    "            './data/imagewoof2-160/val',\n",
    "            transform=input_transform\n",
    "        )\n",
    "        is_grayscale = False\n",
    "        class_names = trainset.classes\n",
    "    elif name == 'imagenette':\n",
    "        trainset = torchvision.datasets.Imagenette(\n",
    "            './data/imagenette_train',\n",
    "            split='train',\n",
    "            size='160px',\n",
    "            transform=input_transform\n",
    "        )\n",
    "        valset = torchvision.datasets.Imagenette(\n",
    "            './data/imagenette_val',\n",
    "            split='val',\n",
    "            size='160px',\n",
    "            transform=input_transform\n",
    "        )\n",
    "        is_grayscale = False\n",
    "        class_names = trainset.classes\n",
    "    return trainset, valset, is_grayscale, class_names\n"
   ]
  },
  {
   "cell_type": "markdown",
   "metadata": {},
   "source": [
    "### Define the model, loss function and optimizer"
   ]
  },
  {
   "cell_type": "code",
   "execution_count": null,
   "metadata": {},
   "outputs": [],
   "source": [
    "class OurCNN(nn.Module):\n",
    "    def __init__(self, input_is_grayscale, num_outputs):\n",
    "        super(OurCNN, self).__init__()\n",
    "        self.conv1 = nn.Conv2d(1 if input_is_grayscale else 3, 64, 5)\n",
    "        self.pool = nn.MaxPool2d(2, 2)\n",
    "        self.conv2 = nn.Conv2d(64, 96, 3)\n",
    "        self.conv3 = nn.Conv2d(96, 128, 3)\n",
    "        self.pool_last = nn.MaxPool2d(4, 4)\n",
    "        self.fc1 = nn.Linear(128 * 4 * 4, 200)\n",
    "        self.fc2 = nn.Linear(200, 100)\n",
    "        self.fc3 = nn.Linear(100, num_outputs)\n",
    "\n",
    "    def forward(self, x):\n",
    "        x = self.pool(F.relu(self.conv1(x)))\n",
    "        x = self.pool(F.relu(self.conv2(x)))\n",
    "        x = self.pool_last(F.relu(self.conv3(x)))\n",
    "        x = x.view(-1, self.fc1.in_features)\n",
    "        x = F.relu(self.fc1(x))\n",
    "        x = F.relu(self.fc2(x))\n",
    "        x = self.fc3(x)\n",
    "        return x\n",
    "\n",
    "class OurCNNDropout(nn.Module):\n",
    "    def __init__(self, input_is_grayscale, num_outputs):\n",
    "        super(OurCNNDropout, self).__init__()\n",
    "        self.conv1 = nn.Conv2d(1 if input_is_grayscale else 3, 64, 5)\n",
    "        self.pool = nn.MaxPool2d(2, 2)\n",
    "        self.conv2 = nn.Conv2d(64, 96, 3)\n",
    "        self.conv3 = nn.Conv2d(96, 128, 3)\n",
    "        self.pool_last = nn.MaxPool2d(4, 4)\n",
    "        self.fc1 = nn.Linear(128 * 4 * 4, 200)\n",
    "        self.dropout1 = nn.Dropout(p=0.5)\n",
    "        self.fc2 = nn.Linear(200, 100)\n",
    "        self.dropout2 = nn.Dropout(p=0.5)\n",
    "        self.fc3 = nn.Linear(100, num_outputs)\n",
    "\n",
    "    def forward(self, x):\n",
    "        x = self.pool(F.relu(self.conv1(x)))\n",
    "        x = self.pool(F.relu(self.conv2(x)))\n",
    "        x = self.pool_last(F.relu(self.conv3(x)))\n",
    "        x = x.view(-1, self.fc1.in_features)\n",
    "        x = F.relu(self.fc1(x))\n",
    "        x = F.relu(self.fc2(self.dropout1(x)))\n",
    "        x = self.fc3(self.dropout2(x))\n",
    "        return x\n",
    "\n",
    "class OurCNNBatchNormAfterConvs(nn.Module):\n",
    "    def __init__(self, input_is_grayscale, num_outputs):\n",
    "        super(OurCNNBatchNormAfterConvs, self).__init__()\n",
    "        self.conv1 = nn.Conv2d(1 if input_is_grayscale else 3, 64, 5, bias=False)\n",
    "        self.bn1 = nn.BatchNorm2d(64)\n",
    "        self.pool = nn.MaxPool2d(2, 2)\n",
    "        self.conv2 = nn.Conv2d(64, 96, 3, bias=False)\n",
    "        self.bn2 = nn.BatchNorm2d(96)\n",
    "        self.conv3 = nn.Conv2d(96, 128, 3, bias=False)\n",
    "        self.bn3 = nn.BatchNorm2d(128)\n",
    "        self.pool_last = nn.MaxPool2d(4, 4)\n",
    "        self.fc1 = nn.Linear(128 * 4 * 4, 200)\n",
    "        self.fc2 = nn.Linear(200, 100)\n",
    "        self.fc3 = nn.Linear(100, num_outputs)\n",
    "\n",
    "    def forward(self, x):\n",
    "        x = self.pool(F.relu(self.bn1(self.conv1(x))))\n",
    "        x = self.pool(F.relu(self.bn2(self.conv2(x))))\n",
    "        x = self.pool_last(F.relu(self.bn3(self.conv3(x))))\n",
    "        x = x.view(-1, self.fc1.in_features)\n",
    "        x = F.relu(self.fc1(x))\n",
    "        x = F.relu(self.fc2(x))\n",
    "        x = self.fc3(x)\n",
    "        return x\n",
    "\n",
    "class OurCNNBatchNorm(nn.Module):\n",
    "    def __init__(self, input_is_grayscale, num_outputs):\n",
    "        super(OurCNNBatchNorm, self).__init__()\n",
    "        self.conv1 = nn.Conv2d(1 if input_is_grayscale else 3, 64, 5, bias=False)\n",
    "        self.bn1 = nn.BatchNorm2d(64)\n",
    "        self.pool = nn.MaxPool2d(2, 2)\n",
    "        self.conv2 = nn.Conv2d(64, 96, 3, bias=False)\n",
    "        self.bn2 = nn.BatchNorm2d(96)\n",
    "        self.conv3 = nn.Conv2d(96, 128, 3, bias=False)\n",
    "        self.bn3 = nn.BatchNorm2d(128)\n",
    "        self.pool_last = nn.MaxPool2d(4, 4)\n",
    "        self.fc1 = nn.Linear(128 * 4 * 4, 200, bias=False)\n",
    "        self.bnfc1 = nn.BatchNorm1d(200)\n",
    "        self.fc2 = nn.Linear(200, 100, bias=False)\n",
    "        self.bnfc2 = nn.BatchNorm1d(100)\n",
    "        self.fc3 = nn.Linear(100, num_outputs)\n",
    "\n",
    "    def forward(self, x):\n",
    "        x = self.pool(F.relu(self.bn1(self.conv1(x))))\n",
    "        x = self.pool(F.relu(self.bn2(self.conv2(x))))\n",
    "        x = self.pool_last(F.relu(self.bn3(self.conv3(x))))\n",
    "        x = x.view(-1, self.fc1.in_features)\n",
    "        x = F.relu(self.bnfc1(self.fc1(x)))\n",
    "        x = F.relu(self.bnfc2(self.fc2(x)))\n",
    "        x = self.fc3(x)\n",
    "        return x\n",
    "\n",
    "class OurCNNVGGLike(nn.Module):\n",
    "    def __init__(self, input_is_grayscale, num_outputs):\n",
    "        super(OurCNNVGGLike, self).__init__()\n",
    "        self.conv1 = nn.Conv2d(1 if input_is_grayscale else 3, 64, 3)\n",
    "        self.conv2 = nn.Conv2d(64, 64, 3, bias=False)\n",
    "        self.bn1 = nn.BatchNorm2d(64)\n",
    "        self.pool = nn.MaxPool2d(2, 2)\n",
    "        self.conv3 = nn.Conv2d(64, 96, 3)\n",
    "        self.conv4 = nn.Conv2d(96, 96, 3)\n",
    "        self.conv5 = nn.Conv2d(96, 96, 3, bias=False)\n",
    "        self.bn2 = nn.BatchNorm2d(96)\n",
    "        self.conv6 = nn.Conv2d(96, 128, 3)\n",
    "        self.conv7 = nn.Conv2d(128, 128, 3, bias=False)\n",
    "        self.bn3 = nn.BatchNorm2d(128)\n",
    "        self.pool_last = nn.MaxPool2d(4, 4)\n",
    "        self.fc1 = nn.Linear(128 * 3 * 3, 200)\n",
    "        self.dropout1 = nn.Dropout(p=0.5)\n",
    "        self.fc2 = nn.Linear(200, 100)\n",
    "        self.dropout2 = nn.Dropout(p=0.5)\n",
    "        self.fc3 = nn.Linear(100, num_outputs)\n",
    "\n",
    "    def forward(self, x):\n",
    "        x = self.pool(F.relu(self.bn1(self.conv2(self.conv1(x)))))\n",
    "        x = self.pool(F.relu(self.bn2(self.conv5(self.conv4(self.conv3(x))))))\n",
    "        x = self.pool_last(F.relu(self.bn3(self.conv7(self.conv6(x)))))\n",
    "        x = x.view(-1, self.fc1.in_features)\n",
    "        x = F.relu(self.fc1(x))\n",
    "        x = F.relu(self.fc2(self.dropout1(x)))\n",
    "        x = self.fc3(self.dropout2(x))\n",
    "        return x"
   ]
  },
  {
   "cell_type": "markdown",
   "metadata": {},
   "source": [
    "### Train. Save loss and accuracy for train and validation"
   ]
  },
  {
   "cell_type": "code",
   "execution_count": 5,
   "metadata": {},
   "outputs": [],
   "source": [
    "def train(model, trainloader, valloader, criterion, optimizer, scheduler, num_epochs):\n",
    "\n",
    "    model.to(device)\n",
    "    PRINT_STEP = len(trainloader) // 5 - 1\n",
    "\n",
    "    for epoch in range(0, num_epochs):\n",
    "        print(f'Epoch {epoch}')\n",
    "        running_loss = 0.0\n",
    "        correct = 0\n",
    "        for i, data in enumerate(trainloader):\n",
    "            inputs, labels = data\n",
    "            inputs = inputs.to(device)\n",
    "            labels = labels.to(device)\n",
    "            optimizer.zero_grad()\n",
    "\n",
    "            outputs = model(inputs)\n",
    "            loss = criterion(outputs, labels)\n",
    "            loss.backward()\n",
    "            optimizer.step()\n",
    "            _, predictions = torch.max(outputs.data, 1)\n",
    "            correct += (predictions == labels).float().mean().item()\n",
    "\n",
    "            running_loss += loss.item()\n",
    "            if i % PRINT_STEP == PRINT_STEP-1:\n",
    "                accuracy = correct / PRINT_STEP\n",
    "                loss = running_loss / PRINT_STEP\n",
    "                step = epoch * len(trainloader) + i\n",
    "                wandb.log({\n",
    "                        \"train/accuracy\": accuracy,\n",
    "                        \"train/loss\": loss\n",
    "                    },\n",
    "                    step=step\n",
    "                )\n",
    "                running_loss = 0.0\n",
    "                correct = 0\n",
    "\n",
    "        model.eval()\n",
    "        val_loss = 0.0\n",
    "        val_correct = 0\n",
    "        with torch.no_grad():\n",
    "            for j, data in enumerate(valloader, 0):\n",
    "                inputs, labels = data\n",
    "                inputs = inputs.to(device)\n",
    "                labels = labels.to(device)\n",
    "                outputs = model(inputs)\n",
    "                loss = criterion(outputs, labels)\n",
    "                val_loss += loss.item()\n",
    "                _, predictions = torch.max(outputs.data, 1)\n",
    "                val_correct += (predictions == labels).float().mean().item()\n",
    "\n",
    "        accuracy = val_correct / len(valloader)\n",
    "        loss = val_loss / len(valloader)\n",
    "        wandb.log({\n",
    "                \"validation/accuracy\": accuracy,\n",
    "                \"validation/loss\": loss\n",
    "            },\n",
    "            step = (epoch + 1) * len(trainloader)\n",
    "        )\n",
    "        model.train()\n",
    "        scheduler.step()\n",
    "\n",
    "    print('Finished Training')"
   ]
  },
  {
   "cell_type": "code",
   "execution_count": null,
   "metadata": {},
   "outputs": [
    {
     "name": "stdout",
     "output_type": "stream",
     "text": [
      "Found 148 train and 62 val batches\n",
      "classes: [('tench', 'Tinca tinca'), ('English springer', 'English springer spaniel'), ('cassette player',), ('chain saw', 'chainsaw'), ('church', 'church building'), ('French horn', 'horn'), ('garbage truck', 'dustcart'), ('gas pump', 'gasoline pump', 'petrol pump', 'island dispenser'), ('golf ball',), ('parachute', 'chute')]\n",
      "770494 learnable parameters\n"
     ]
    },
    {
     "data": {
      "text/html": [
       "Finishing last run (ID:djwq4ygm) before initializing another..."
      ],
      "text/plain": [
       "<IPython.core.display.HTML object>"
      ]
     },
     "metadata": {},
     "output_type": "display_data"
    },
    {
     "data": {
      "text/html": [
       "<style>\n",
       "    table.wandb td:nth-child(1) { padding: 0 10px; text-align: left ; width: auto;} td:nth-child(2) {text-align: left ; width: 100%}\n",
       "    .wandb-row { display: flex; flex-direction: row; flex-wrap: wrap; justify-content: flex-start; width: 100% }\n",
       "    .wandb-col { display: flex; flex-direction: column; flex-basis: 100%; flex: 1; padding: 10px; }\n",
       "    </style>\n",
       "<div class=\"wandb-row\"><div class=\"wandb-col\"><h3>Run history:</h3><br/><table class=\"wandb\"><tr><td>train/accuracy</td><td>▁▆█</td></tr><tr><td>train/loss</td><td>█▂▁</td></tr></table><br/></div><div class=\"wandb-col\"><h3>Run summary:</h3><br/><table class=\"wandb\"><tr><td>train/accuracy</td><td>0.69682</td></tr><tr><td>train/loss</td><td>0.8246</td></tr></table><br/></div></div>"
      ],
      "text/plain": [
       "<IPython.core.display.HTML object>"
      ]
     },
     "metadata": {},
     "output_type": "display_data"
    },
    {
     "data": {
      "text/html": [
       " View run <strong style=\"color:#cdcd00\">frosty-grass-125</strong> at: <a href='https://wandb.ai/podcast-o-rybach-warsaw-university-of-technology/iml_lab2/runs/djwq4ygm' target=\"_blank\">https://wandb.ai/podcast-o-rybach-warsaw-university-of-technology/iml_lab2/runs/djwq4ygm</a><br/> View project at: <a href='https://wandb.ai/podcast-o-rybach-warsaw-university-of-technology/iml_lab2' target=\"_blank\">https://wandb.ai/podcast-o-rybach-warsaw-university-of-technology/iml_lab2</a><br/>Synced 5 W&B file(s), 0 media file(s), 2 artifact file(s) and 0 other file(s)"
      ],
      "text/plain": [
       "<IPython.core.display.HTML object>"
      ]
     },
     "metadata": {},
     "output_type": "display_data"
    },
    {
     "data": {
      "text/html": [
       "Find logs at: <code>.\\wandb\\run-20241110_114716-djwq4ygm\\logs</code>"
      ],
      "text/plain": [
       "<IPython.core.display.HTML object>"
      ]
     },
     "metadata": {},
     "output_type": "display_data"
    },
    {
     "data": {
      "text/html": [
       "Successfully finished last run (ID:djwq4ygm). Initializing new run:<br/>"
      ],
      "text/plain": [
       "<IPython.core.display.HTML object>"
      ]
     },
     "metadata": {},
     "output_type": "display_data"
    },
    {
     "data": {
      "text/html": [
       "Tracking run with wandb version 0.18.3"
      ],
      "text/plain": [
       "<IPython.core.display.HTML object>"
      ]
     },
     "metadata": {},
     "output_type": "display_data"
    },
    {
     "data": {
      "text/html": [
       "Run data is saved locally in <code>c:\\iml2\\2024\\wandb\\run-20241110_115653-wycl0ag5</code>"
      ],
      "text/plain": [
       "<IPython.core.display.HTML object>"
      ]
     },
     "metadata": {},
     "output_type": "display_data"
    },
    {
     "data": {
      "text/html": [
       "Syncing run <strong><a href='https://wandb.ai/podcast-o-rybach-warsaw-university-of-technology/iml_lab2/runs/wycl0ag5' target=\"_blank\">swift-violet-126</a></strong> to <a href='https://wandb.ai/podcast-o-rybach-warsaw-university-of-technology/iml_lab2' target=\"_blank\">Weights & Biases</a> (<a href='https://wandb.me/run' target=\"_blank\">docs</a>)<br/>"
      ],
      "text/plain": [
       "<IPython.core.display.HTML object>"
      ]
     },
     "metadata": {},
     "output_type": "display_data"
    },
    {
     "data": {
      "text/html": [
       " View project at <a href='https://wandb.ai/podcast-o-rybach-warsaw-university-of-technology/iml_lab2' target=\"_blank\">https://wandb.ai/podcast-o-rybach-warsaw-university-of-technology/iml_lab2</a>"
      ],
      "text/plain": [
       "<IPython.core.display.HTML object>"
      ]
     },
     "metadata": {},
     "output_type": "display_data"
    },
    {
     "data": {
      "text/html": [
       " View run at <a href='https://wandb.ai/podcast-o-rybach-warsaw-university-of-technology/iml_lab2/runs/wycl0ag5' target=\"_blank\">https://wandb.ai/podcast-o-rybach-warsaw-university-of-technology/iml_lab2/runs/wycl0ag5</a>"
      ],
      "text/plain": [
       "<IPython.core.display.HTML object>"
      ]
     },
     "metadata": {},
     "output_type": "display_data"
    },
    {
     "name": "stdout",
     "output_type": "stream",
     "text": [
      "Epoch 0\n",
      "Epoch 1\n",
      "Epoch 2\n"
     ]
    }
   ],
   "source": [
    "LR_DECAY = 0.95\n",
    "MOMENTUM = 0.9\n",
    "LEARNING_RATE = 0.03\n",
    "OPTMIZER = optim.SGD\n",
    "\n",
    "for MODEL in [OurCNNVGGLike, OurCNNDropout, OurCNNBatchNormAfterConvs, OurCNNBatchNorm]:\n",
    "    for DATASET_NAME in ['imagenette', 'imagewoof']:\n",
    "        if MODEL == OurCNNBatchNormAfterConvs and DATASET_NAME != 'imagewoof':\n",
    "            continue\n",
    "        if DATASET_NAME == 'imagewoof':\n",
    "            LEARNING_RATE = 0.01\n",
    "        INPUT_RESOLUTION = 80\n",
    "        trainset, valset, input_is_grayscale, class_names = load_dataset(\n",
    "            DATASET_NAME, INPUT_RESOLUTION\n",
    "        )\n",
    "        trainloader = torch.utils.data.DataLoader(\n",
    "            trainset,\n",
    "            batch_size=64,\n",
    "            num_workers=2,\n",
    "            shuffle=True\n",
    "        )\n",
    "        valloader = torch.utils.data.DataLoader(\n",
    "            valset,\n",
    "            batch_size=64,\n",
    "            shuffle=False,\n",
    "            num_workers=2\n",
    "        )\n",
    "        print(f'Found {len(trainloader)} train and {len(valloader)} val batches')\n",
    "        print(f'classes: {class_names}')\n",
    "\n",
    "        model = MODEL(input_is_grayscale, len(class_names))\n",
    "        criterion = nn.CrossEntropyLoss()\n",
    "        optimizer = OPTMIZER(model.parameters(), lr=LEARNING_RATE, momentum=MOMENTUM)\n",
    "        scheduler = optim.lr_scheduler.ExponentialLR(optimizer, gamma=LR_DECAY)\n",
    "        num_learnable_parameters = sum([\n",
    "            p.numel() for p in model.parameters() if p.requires_grad\n",
    "        ])\n",
    "        print(f'{num_learnable_parameters} learnable parameters')\n",
    "        wandb.init(\n",
    "            project=\"iml_lab2\",\n",
    "            config={\n",
    "                \"learning_rate\": LEARNING_RATE,\n",
    "                \"learning_rate_decay\": LR_DECAY,\n",
    "                \"momentum\": MOMENTUM,\n",
    "                \"batch_size\": trainloader.batch_size,\n",
    "                \"input_resolution\": INPUT_RESOLUTION,\n",
    "                \"num_parameters\": num_learnable_parameters,\n",
    "                \"optimizer\": OPTMIZER.__name__,\n",
    "                \"architecture\": MODEL.__name__,\n",
    "                \"dataset\": DATASET_NAME\n",
    "            }\n",
    "        )\n",
    "        train(model, trainloader, valloader, criterion, optimizer, scheduler, 30)"
   ]
  },
  {
   "cell_type": "markdown",
   "metadata": {},
   "source": [
    "### Calculate means and standard deviations for Normalize"
   ]
  },
  {
   "cell_type": "code",
   "execution_count": 12,
   "metadata": {},
   "outputs": [
    {
     "name": "stdout",
     "output_type": "stream",
     "text": [
      "FashionMNIST:\n",
      "[0.28594527]\n",
      "[0.3380673]\n",
      "imagenette:\n",
      "[0.46247163 0.45796242 0.42979676]\n",
      "[0.27013233 0.26697868 0.29031703]\n",
      "imagewoof:\n",
      "[0.4860626  0.45593935 0.39390635]\n",
      "[0.24799196 0.2409045  0.24982297]\n"
     ]
    }
   ],
   "source": [
    "for DATASET_NAME in ['FashionMNIST', 'imagenette', 'imagewoof']:\n",
    "    mean, std = 0.0, 0.0\n",
    "    num_samples = 0\n",
    "    INPUT_RESOLUTION = 80\n",
    "    trainset, valset, input_is_grayscale, class_names = load_dataset(\n",
    "        DATASET_NAME, INPUT_RESOLUTION\n",
    "    )\n",
    "    trainloader = torch.utils.data.DataLoader(\n",
    "        trainset,\n",
    "        batch_size=64,\n",
    "        num_workers=2,\n",
    "        shuffle=True\n",
    "    )\n",
    "    for i, data in enumerate(trainloader):\n",
    "        inputs, labels = data\n",
    "        mean = inputs.numpy().mean(axis=(0, 2, 3)) * inputs.shape[0] + mean\n",
    "        std = np.std(inputs.numpy(), axis=(0, 2, 3)) * inputs.shape[0] + std\n",
    "        num_samples += inputs.shape[0]\n",
    "    print(f'{DATASET_NAME}:')\n",
    "    print(mean / num_samples)\n",
    "    print(std / num_samples)\n"
   ]
  },
  {
   "cell_type": "markdown",
   "metadata": {},
   "source": [
    "### Plot a confusion matrix"
   ]
  },
  {
   "cell_type": "code",
   "execution_count": 10,
   "metadata": {},
   "outputs": [],
   "source": [
    "model.eval()\n",
    "y_true = []\n",
    "y_predicted = []\n",
    "with torch.no_grad():\n",
    "    for j, data in enumerate(valloader, 0):\n",
    "        inputs, labels = data\n",
    "        y_true.extend(labels.numpy())\n",
    "        inputs = inputs.to(device)\n",
    "        labels = labels.to(device)\n",
    "        outputs = model(inputs)\n",
    "        _, predictions = torch.max(outputs.data, 1)\n",
    "        y_predicted.extend(predictions.cpu().numpy())\n",
    "model.train()\n",
    "\n",
    "\n",
    "confusion_matrix = wandb.plot.confusion_matrix(\n",
    "    probs=None,\n",
    "    y_true=y_true,\n",
    "    preds=y_predicted,\n",
    "    class_names=class_names\n",
    ")\n",
    "wandb.log({\n",
    "    \"conf_mat\" : confusion_matrix\n",
    "})\n"
   ]
  },
  {
   "cell_type": "markdown",
   "metadata": {},
   "source": [
    "### Save example images"
   ]
  },
  {
   "cell_type": "code",
   "execution_count": null,
   "metadata": {},
   "outputs": [],
   "source": [
    "for DATASET_NAME in ['imagenette', 'imagewoof']:\n",
    "    table_data = []\n",
    "    if DATASET_NAME == 'imagenette':\n",
    "        train_dir = 'data/imagenette_train/imagenette2-160/train'\n",
    "    elif DATASET_NAME == 'imagewoof':\n",
    "        train_dir = 'data/imagewoof2-160/train'\n",
    "    trainset, valset, input_is_grayscale, actual_class_names = load_dataset(\n",
    "        DATASET_NAME, 80\n",
    "    )\n",
    "    for i, class_name in enumerate(os.listdir(train_dir)):\n",
    "        for file_name in os.listdir(train_dir + '/' + class_name)[:10]:\n",
    "            if not file_name.endswith('png'):\n",
    "                continue\n",
    "            filepath = f'{train_dir}/{class_name}/{file_name}'\n",
    "            table_data.append([file_name, actual_class_names[i], wandb.Image(filepath)])\n",
    "    columns = [\"filename\", \"class\", \"image\"]\n",
    "    test_table = wandb.Table(data=table_data, columns=columns)\n",
    "    wandb.log(f'example_samples_{DATASET_NAME}', test_table)"
   ]
  },
  {
   "cell_type": "code",
   "execution_count": 42,
   "metadata": {},
   "outputs": [
    {
     "data": {
      "text/plain": [
       "OurCNN(\n",
       "  (conv1): Conv2d(1, 6, kernel_size=(5, 5), stride=(1, 1))\n",
       "  (pool): MaxPool2d(kernel_size=2, stride=2, padding=0, dilation=1, ceil_mode=False)\n",
       "  (conv2): Conv2d(6, 12, kernel_size=(3, 3), stride=(1, 1))\n",
       "  (fc1): Linear(in_features=1200, out_features=40, bias=True)\n",
       "  (fc2): Linear(in_features=40, out_features=20, bias=True)\n",
       "  (fc3): Linear(in_features=20, out_features=7, bias=True)\n",
       ")"
      ]
     },
     "execution_count": 42,
     "metadata": {},
     "output_type": "execute_result"
    }
   ],
   "source": [
    "misclassified_data = []\n",
    "model.eval()\n",
    "with torch.no_grad():\n",
    "    for j, data in enumerate(valloader, 0):\n",
    "        inputs, labels = data\n",
    "        inputs = inputs.to(device)\n",
    "        labels = labels.to(device)\n",
    "        outputs = model(inputs)\n",
    "        _, predictions = torch.max(outputs.data, 1)\n",
    "        val_correct += (predictions == labels).float().mean().item()\n",
    "        for i in np.argwhere((predictions != labels).cpu().numpy()):\n",
    "            np_image = inputs[i].cpu().numpy()[0]\n",
    "            misclassified_data.append((\n",
    "                np_image,\n",
    "                predictions[i].item(),\n",
    "                labels[i].item()\n",
    "            ))\n",
    "\n",
    "model.train()"
   ]
  },
  {
   "cell_type": "code",
   "execution_count": 58,
   "metadata": {},
   "outputs": [
    {
     "data": {
      "image/png": "[encoded data removed]",
      "text/plain": [
       "<Figure size 640x480 with 1 Axes>"
      ]
     },
     "metadata": {},
     "output_type": "display_data"
    }
   ],
   "source": [
    "images, labels = next(dataiter)\n",
    "\n",
    "for image, true_label, selected_label in misclassified_data[11:12]:\n",
    "    plt.imshow(np.transpose(image / 2 + 0.5, (1, 2, 0)), cmap='grey')\n",
    "    plt.title(f'true: {class_names[true_label]} predicted: {class_names[selected_label]}')\n"
   ]
  },
  {
   "cell_type": "code",
   "execution_count": 33,
   "metadata": {},
   "outputs": [
    {
     "name": "stdout",
     "output_type": "stream",
     "text": [
      "(1, 1, 48, 48)\n"
     ]
    }
   ],
   "source": [
    "print(image.shape)"
   ]
  },
  {
   "cell_type": "code",
   "execution_count": 25,
   "metadata": {},
   "outputs": [
    {
     "data": {
      "text/plain": [
       "(array([[[[ 0.22352946,  0.4431373 ,  0.5529412 , ...,  0.2313726 ,\n",
       "            0.20784318,  0.17647064],\n",
       "          [ 0.14509809,  0.427451  ,  0.56078434, ...,  0.26274514,\n",
       "            0.20784318,  0.17647064],\n",
       "          [ 0.05882359,  0.3803922 ,  0.5294118 , ...,  0.2941177 ,\n",
       "            0.26274514,  0.21568632],\n",
       "          ...,\n",
       "          [-0.78039217, -0.8039216 , -0.8352941 , ...,  0.4039216 ,\n",
       "            0.37254906,  0.35686278],\n",
       "          [-0.77254903, -0.85882354, -0.827451  , ...,  0.38823533,\n",
       "            0.34901965,  0.32549024],\n",
       "          [-0.8352941 , -0.8901961 , -0.81960785, ...,  0.34901965,\n",
       "            0.30980396,  0.26274514]]]], dtype=float32),\n",
       " 4,\n",
       " 1)"
      ]
     },
     "execution_count": 25,
     "metadata": {},
     "output_type": "execute_result"
    }
   ],
   "source": [
    "misclassified_data[0]"
   ]
  },
  {
   "cell_type": "code",
   "execution_count": null,
   "metadata": {},
   "outputs": [],
   "source": []
  }
 ],
 "metadata": {
  "kernelspec": {
   "display_name": "iml",
   "language": "python",
   "name": "python3"
  },
  "language_info": {
   "codemirror_mode": {
    "name": "ipython",
    "version": 3
   },
   "file_extension": ".py",
   "mimetype": "text/x-python",
   "name": "python",
   "nbconvert_exporter": "python",
   "pygments_lexer": "ipython3",
   "version": "3.9.20"
  }
 },
 "nbformat": 4,
 "nbformat_minor": 2
}
